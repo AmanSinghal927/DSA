{
  "nbformat": 4,
  "nbformat_minor": 0,
  "metadata": {
    "colab": {
      "name": "Untitled4.ipynb",
      "provenance": [],
      "collapsed_sections": []
    },
    "kernelspec": {
      "name": "python3",
      "display_name": "Python 3"
    },
    "language_info": {
      "name": "python"
    }
  },
  "cells": [
    {
      "cell_type": "code",
      "execution_count": null,
      "metadata": {
        "id": "hY0PaWjYhWOw"
      },
      "outputs": [],
      "source": [
        ""
      ]
    },
    {
      "cell_type": "markdown",
      "source": [
        "## Find the Pivot Element in a Rotatated Array"
      ],
      "metadata": {
        "id": "bz_VjZtzhYy8"
      }
    },
    {
      "cell_type": "code",
      "source": [
        "class Solution(object):\n",
        "    def search(self, nums, target):\n",
        "        \"\"\"\n",
        "        :type nums: List[int]\n",
        "        :type target: int\n",
        "        :rtype: int\n",
        "        \"\"\"\n",
        "        \n",
        "        def pivot(nums, target, left, right):           \n",
        "            if left<right:\n",
        "                mid = (left + right)//2\n",
        "                if nums[mid+1]<nums[mid]:\n",
        "                    return (mid+1)\n",
        "                if nums[mid-1]>nums[mid]:\n",
        "                    return (mid)\n",
        "                \n",
        "                if nums[right]<nums[mid]:\n",
        "                    return pivot(nums, target, mid+1, right)\n",
        "                \n",
        "                if nums[left]>nums[mid]:\n",
        "                    return pivot(nums, target, left, mid)\n",
        "        \n",
        "        return pivot(nums, target, 0, len(nums)-1)"
      ],
      "metadata": {
        "id": "PfM8V-ochZA0"
      },
      "execution_count": null,
      "outputs": []
    }
  ]
}